{
  "nbformat": 4,
  "nbformat_minor": 0,
  "metadata": {
    "colab": {
      "provenance": [],
      "include_colab_link": true
    },
    "kernelspec": {
      "name": "python3",
      "display_name": "Python 3"
    },
    "language_info": {
      "name": "python"
    }
  },
  "cells": [
    {
      "cell_type": "markdown",
      "metadata": {
        "id": "view-in-github",
        "colab_type": "text"
      },
      "source": [
        "<a href=\"https://colab.research.google.com/github/mvharsh/Deep-Learning/blob/main/RNN/RNN_Number_series_prediction.ipynb\" target=\"_parent\"><img src=\"https://colab.research.google.com/assets/colab-badge.svg\" alt=\"Open In Colab\"/></a>"
      ]
    },
    {
      "cell_type": "code",
      "source": [
        "import numpy as np\n",
        "from keras.models import Sequential\n",
        "from keras.layers import LSTM, Dense\n",
        "from sklearn.metrics import mean_squared_error\n",
        "\n",
        "# Function to generate a number series based on user input\n",
        "def generate_series(start, step, length):\n",
        "    return np.arange(start, start + step * length, step)\n",
        "\n",
        "# Function to prepare data for LSTM model\n",
        "def prepare_data_for_lstm(series, n_steps):\n",
        "    X, y = [], []\n",
        "    for i in range(len(series) - n_steps):\n",
        "        X.append(series[i:i + n_steps])\n",
        "        y.append(series[i + n_steps])\n",
        "    return np.array(X), np.array(y)\n",
        "\n",
        "# Function to train the LSTM model and predict the next number in the series\n",
        "def predict_next_number_lstm(series, n_steps):\n",
        "    X, y = prepare_data_for_lstm(series, n_steps)\n",
        "    X = X.reshape((X.shape[0], X.shape[1], 1))\n",
        "    model = Sequential()\n",
        "    model.add(LSTM(64, activation='relu', input_shape=(n_steps, 1)))\n",
        "    model.add(Dense(1))\n",
        "    model.compile(optimizer='adam', loss='mean_squared_error')\n",
        "    model.fit(X, y, epochs=1000, batch_size=1, verbose=0)\n",
        "    x_input = np.array([series[-n_steps:]])\n",
        "    x_input = x_input.reshape((1, n_steps, 1))\n",
        "    next_number = model.predict(x_input, verbose=0)[0][0]\n",
        "    return next_number\n",
        "\n",
        "# Get input from the user\n",
        "start = float(input(\"Enter the start of the series: \"))\n",
        "step = float(input(\"Enter the step size of the series: \"))\n",
        "length = int(input(\"Enter the length of the series: \"))\n",
        "\n",
        "# Generate the series\n",
        "series = generate_series(start, step, length)\n",
        "\n",
        "# Define the number of time steps (length of input sequence for LSTM)\n",
        "n_steps = 2 # Use the last 2 numbers for prediction\n",
        "\n",
        "# Predict the next number in the series using LSTM\n",
        "next_number = predict_next_number_lstm(series, n_steps)\n",
        "\n",
        "# Calculate and print the accuracy\n",
        "actual_next_number = series[-1] + step\n",
        "mse = mean_squared_error([actual_next_number], [next_number])\n",
        "accuracy = 100 * (1 - mse)\n",
        "\n",
        "# Print the actual input series\n",
        "print(\"Actual Input Series:\")\n",
        "print(series)\n",
        "\n",
        "# Print only the predicted next number and accuracy\n",
        "print(\"\\nPredicted Next Number in the Series (LSTM):\", next_number)\n",
        "print(\"Prediction Accuracy (%):\", accuracy)"
      ],
      "metadata": {
        "colab": {
          "base_uri": "https://localhost:8080/"
        },
        "id": "fU8LBu8tlgvP",
        "outputId": "e4edbfaa-2f2a-4ec3-ec1e-ea7ad2531c8e"
      },
      "execution_count": null,
      "outputs": [
        {
          "output_type": "stream",
          "name": "stdout",
          "text": [
            "Enter the start of the series: 2\n",
            "Enter the step size of the series: 5\n",
            "Enter the length of the series: 10\n",
            "Actual Input Series:\n",
            "[ 2.  7. 12. 17. 22. 27. 32. 37. 42. 47.]\n",
            "\n",
            "Predicted Next Number in the Series (LSTM): 52.125916\n",
            "Prediction Accuracy (%): 98.41452799737453\n"
          ]
        }
      ]
    },
    {
      "cell_type": "code",
      "execution_count": null,
      "metadata": {
        "id": "glChqGWvQ97T"
      },
      "outputs": [],
      "source": [
        "from keras.models import Sequential\n",
        "from keras.layers import Dense, LSTM\n",
        "from sklearn.model_selection import train_test_split\n",
        "import numpy as np\n",
        "import matplotlib.pyplot as plt"
      ]
    },
    {
      "cell_type": "code",
      "source": [
        "data = [[[(i+j)] for i in range(5)] for j in range(100)]\n",
        "data = np.array(data, dtype = float)\n",
        "target = [(i+5) for i in range(100)]\n",
        "target = np.array(target, dtype = float)"
      ],
      "metadata": {
        "id": "3kVHfKCkRQPm"
      },
      "execution_count": null,
      "outputs": []
    },
    {
      "cell_type": "code",
      "source": [
        "target.shape"
      ],
      "metadata": {
        "colab": {
          "base_uri": "https://localhost:8080/"
        },
        "id": "q8k2jQygRZfB",
        "outputId": "e6c66b43-94a7-443d-d8ef-28b2b56dc502"
      },
      "execution_count": null,
      "outputs": [
        {
          "output_type": "execute_result",
          "data": {
            "text/plain": [
              "(100,)"
            ]
          },
          "metadata": {},
          "execution_count": 3
        }
      ]
    },
    {
      "cell_type": "code",
      "source": [
        "data.shape"
      ],
      "metadata": {
        "colab": {
          "base_uri": "https://localhost:8080/"
        },
        "id": "cr9H18wdRb-J",
        "outputId": "4bb8a376-52e3-4fe4-99b0-ffae6b14f5a7"
      },
      "execution_count": null,
      "outputs": [
        {
          "output_type": "execute_result",
          "data": {
            "text/plain": [
              "(100, 5, 1)"
            ]
          },
          "metadata": {},
          "execution_count": 4
        }
      ]
    },
    {
      "cell_type": "code",
      "source": [
        "x_train, x_test, y_train, y_test = train_test_split(data, target, test_size = 0.2, random_state=4)\n"
      ],
      "metadata": {
        "id": "gKhC7dO5Rdc1"
      },
      "execution_count": null,
      "outputs": []
    },
    {
      "cell_type": "code",
      "source": [
        "model = Sequential()\n",
        "model.add(LSTM(1, batch_input_shape=(None, None, 1), return_sequences = True))\n",
        "model.add(LSTM((1),return_sequences = False))\n",
        "model.summary()"
      ],
      "metadata": {
        "colab": {
          "base_uri": "https://localhost:8080/"
        },
        "id": "wNwxpslKSIgB",
        "outputId": "202764b1-cea1-475b-c758-737e694d85e5"
      },
      "execution_count": null,
      "outputs": [
        {
          "output_type": "stream",
          "name": "stdout",
          "text": [
            "Model: \"sequential\"\n",
            "_________________________________________________________________\n",
            " Layer (type)                Output Shape              Param #   \n",
            "=================================================================\n",
            " lstm (LSTM)                 (None, None, 1)           12        \n",
            "                                                                 \n",
            " lstm_1 (LSTM)               (None, 1)                 12        \n",
            "                                                                 \n",
            "=================================================================\n",
            "Total params: 24 (96.00 Byte)\n",
            "Trainable params: 24 (96.00 Byte)\n",
            "Non-trainable params: 0 (0.00 Byte)\n",
            "_________________________________________________________________\n"
          ]
        }
      ]
    },
    {
      "cell_type": "code",
      "source": [
        "model.compile(loss='mean_absolute_error', optimizer = 'adam', metrics = ['accuracy'])\n"
      ],
      "metadata": {
        "id": "PHoQWqacSQIT"
      },
      "execution_count": null,
      "outputs": []
    },
    {
      "cell_type": "code",
      "source": [
        "solution = model.fit(x_train, y_train, epochs = 10, validation_data = (x_test, y_test))\n"
      ],
      "metadata": {
        "colab": {
          "base_uri": "https://localhost:8080/"
        },
        "id": "b_ZI6EMQSQU8",
        "outputId": "ee068f38-efff-47ce-d513-607a694d9d6a"
      },
      "execution_count": null,
      "outputs": [
        {
          "output_type": "stream",
          "name": "stdout",
          "text": [
            "Epoch 1/10\n",
            "3/3 [==============================] - 18s 1s/step - loss: 56.6883 - accuracy: 0.0000e+00 - val_loss: 45.7490 - val_accuracy: 0.0000e+00\n",
            "Epoch 2/10\n",
            "3/3 [==============================] - 0s 74ms/step - loss: 56.6862 - accuracy: 0.0000e+00 - val_loss: 45.7470 - val_accuracy: 0.0000e+00\n",
            "Epoch 3/10\n",
            "3/3 [==============================] - 0s 98ms/step - loss: 56.6842 - accuracy: 0.0000e+00 - val_loss: 45.7449 - val_accuracy: 0.0000e+00\n",
            "Epoch 4/10\n",
            "3/3 [==============================] - 0s 64ms/step - loss: 56.6821 - accuracy: 0.0000e+00 - val_loss: 45.7428 - val_accuracy: 0.0000e+00\n",
            "Epoch 5/10\n",
            "3/3 [==============================] - 0s 39ms/step - loss: 56.6800 - accuracy: 0.0000e+00 - val_loss: 45.7407 - val_accuracy: 0.0000e+00\n",
            "Epoch 6/10\n",
            "3/3 [==============================] - 0s 88ms/step - loss: 56.6779 - accuracy: 0.0000e+00 - val_loss: 45.7386 - val_accuracy: 0.0000e+00\n",
            "Epoch 7/10\n",
            "3/3 [==============================] - 0s 80ms/step - loss: 56.6757 - accuracy: 0.0000e+00 - val_loss: 45.7364 - val_accuracy: 0.0000e+00\n",
            "Epoch 8/10\n",
            "3/3 [==============================] - 0s 51ms/step - loss: 56.6735 - accuracy: 0.0000e+00 - val_loss: 45.7342 - val_accuracy: 0.0000e+00\n",
            "Epoch 9/10\n",
            "3/3 [==============================] - 0s 47ms/step - loss: 56.6713 - accuracy: 0.0000e+00 - val_loss: 45.7319 - val_accuracy: 0.0000e+00\n",
            "Epoch 10/10\n",
            "3/3 [==============================] - 0s 40ms/step - loss: 56.6691 - accuracy: 0.0000e+00 - val_loss: 45.7296 - val_accuracy: 0.0000e+00\n"
          ]
        }
      ]
    },
    {
      "cell_type": "code",
      "source": [
        "y_pred = model.predict(x_test)"
      ],
      "metadata": {
        "colab": {
          "base_uri": "https://localhost:8080/"
        },
        "id": "NIwTK4auS5nb",
        "outputId": "7586db49-4eb2-493f-be0b-284b2f67796b"
      },
      "execution_count": null,
      "outputs": [
        {
          "output_type": "stream",
          "name": "stdout",
          "text": [
            "1/1 [==============================] - 4s 4s/step\n"
          ]
        }
      ]
    },
    {
      "cell_type": "code",
      "source": [
        "plt.scatter(range(20),y_pred,color='r')\n",
        "plt.scatter(range(20),y_test, color='b')\n",
        "plt.show()"
      ],
      "metadata": {
        "colab": {
          "base_uri": "https://localhost:8080/",
          "height": 430
        },
        "id": "_RsLmNGKS53U",
        "outputId": "a23ae150-435d-49fa-d224-37f1ccdca8bb"
      },
      "execution_count": null,
      "outputs": [
        {
          "output_type": "display_data",
          "data": {
            "text/plain": [
              "<Figure size 640x480 with 1 Axes>"
            ],
            "image/png": "[encoded data removed]"
          },
          "metadata": {}
        }
      ]
    },
    {
      "cell_type": "code",
      "source": [
        "plt.plot(solution.history['loss'])\n",
        "plt.show()"
      ],
      "metadata": {
        "colab": {
          "base_uri": "https://localhost:8080/",
          "height": 430
        },
        "id": "AYJ5CsXrTX0-",
        "outputId": "57dea2c9-bd3c-4c87-f509-d9ae0a2d3cce"
      },
      "execution_count": null,
      "outputs": [
        {
          "output_type": "display_data",
          "data": {
            "text/plain": [
              "<Figure size 640x480 with 1 Axes>"
            ],
            "image/png": "[encoded data removed]"
          },
          "metadata": {}
        }
      ]
    },
    {
      "cell_type": "code",
      "source": [
        "data=[[[(i+j)]for i in range(7)] for j in range(100)]\n",
        "data = np.array(data, dtype = float)\n",
        "target = [(i+7) for i in range(100)]\n",
        "target = np.array(target, dtype = float)"
      ],
      "metadata": {
        "id": "ajFiMdOhTia_"
      },
      "execution_count": null,
      "outputs": []
    }
  ]
}