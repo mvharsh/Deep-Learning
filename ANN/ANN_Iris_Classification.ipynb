{
  "nbformat": 4,
  "nbformat_minor": 0,
  "metadata": {
    "colab": {
      "provenance": [],
      "include_colab_link": true
    },
    "kernelspec": {
      "name": "python3",
      "display_name": "Python 3"
    },
    "language_info": {
      "name": "python"
    }
  },
  "cells": [
    {
      "cell_type": "markdown",
      "metadata": {
        "id": "view-in-github",
        "colab_type": "text"
      },
      "source": [
        "<a href=\"https://colab.research.google.com/github/mvharsh/Deep-Learning/blob/main/ANN/ANN_Iris_Classification.ipynb\" target=\"_parent\"><img src=\"https://colab.research.google.com/assets/colab-badge.svg\" alt=\"Open In Colab\"/></a>"
      ]
    },
    {
      "cell_type": "code",
      "execution_count": null,
      "metadata": {
        "id": "0n0cPpmTqj1o"
      },
      "outputs": [],
      "source": [
        "import numpy as np\n",
        "import pandas as pd\n",
        "from sklearn.datasets import load_iris\n",
        "from sklearn.model_selection import train_test_split\n",
        "from sklearn.preprocessing import StandardScaler\n",
        "from sklearn.metrics import confusion_matrix, accuracy_score, precision_score, recall_score, f1_score\n",
        "import tensorflow as tf\n",
        "from tensorflow.keras.models import Sequential\n",
        "from tensorflow.keras.layers import Dense\n",
        "\n",
        "# Load the Iris dataset\n",
        "iris = load_iris()\n",
        "X = iris.data\n",
        "y = iris.target"
      ]
    },
    {
      "cell_type": "code",
      "source": [
        "# Splitting the dataset into training and testing sets\n",
        "X_train, X_test, y_train, y_test = train_test_split(X, y, test_size=0.2, random_state=42)"
      ],
      "metadata": {
        "id": "1LAdfcOuq-BG"
      },
      "execution_count": null,
      "outputs": []
    },
    {
      "cell_type": "code",
      "source": [
        "# Standardize features\n",
        "scaler = StandardScaler()\n",
        "X_train_scaled = scaler.fit_transform(X_train)\n",
        "X_test_scaled = scaler.transform(X_test)"
      ],
      "metadata": {
        "id": "VPxbgRwnqtZN"
      },
      "execution_count": null,
      "outputs": []
    },
    {
      "cell_type": "code",
      "source": [
        "# Building the ANN model\n",
        "model = Sequential()\n",
        "model.add(Dense(8, activation='relu', input_dim=X_train_scaled.shape[1]))\n",
        "model.add(Dense(3, activation='softmax'))"
      ],
      "metadata": {
        "id": "7JQwx_5fqvmP"
      },
      "execution_count": null,
      "outputs": []
    },
    {
      "cell_type": "code",
      "source": [
        "# Compiling the model\n",
        "model.compile(optimizer='adam', loss='sparse_categorical_crossentropy', metrics=['accuracy'])"
      ],
      "metadata": {
        "id": "U55qZ9iyqwg0"
      },
      "execution_count": null,
      "outputs": []
    },
    {
      "cell_type": "code",
      "source": [
        "# Training the model\n",
        "model.fit(X_train_scaled, y_train, epochs=100, batch_size=10, validation_split=0.1)"
      ],
      "metadata": {
        "colab": {
          "base_uri": "https://localhost:8080/"
        },
        "id": "2Vtx5RS_qwjV",
        "outputId": "b1867f67-54ff-4e0e-8b10-4d276b7cc1ef"
      },
      "execution_count": null,
      "outputs": [
        {
          "output_type": "stream",
          "name": "stdout",
          "text": [
            "Epoch 1/100\n",
            "11/11 [==============================] - 4s 86ms/step - loss: 1.1795 - accuracy: 0.4722 - val_loss: 1.2184 - val_accuracy: 0.4167\n",
            "Epoch 2/100\n",
            "11/11 [==============================] - 0s 34ms/step - loss: 1.1053 - accuracy: 0.6481 - val_loss: 1.1775 - val_accuracy: 0.5833\n",
            "Epoch 3/100\n",
            "11/11 [==============================] - 0s 19ms/step - loss: 1.0395 - accuracy: 0.6759 - val_loss: 1.1375 - val_accuracy: 0.5833\n",
            "Epoch 4/100\n",
            "11/11 [==============================] - 0s 19ms/step - loss: 0.9828 - accuracy: 0.6759 - val_loss: 1.0982 - val_accuracy: 0.5833\n",
            "Epoch 5/100\n",
            "11/11 [==============================] - 0s 30ms/step - loss: 0.9314 - accuracy: 0.6759 - val_loss: 1.0611 - val_accuracy: 0.5833\n",
            "Epoch 6/100\n",
            "11/11 [==============================] - 0s 12ms/step - loss: 0.8863 - accuracy: 0.6759 - val_loss: 1.0289 - val_accuracy: 0.5833\n",
            "Epoch 7/100\n",
            "11/11 [==============================] - 0s 12ms/step - loss: 0.8462 - accuracy: 0.6852 - val_loss: 0.9986 - val_accuracy: 0.5833\n",
            "Epoch 8/100\n",
            "11/11 [==============================] - 0s 14ms/step - loss: 0.8118 - accuracy: 0.6852 - val_loss: 0.9701 - val_accuracy: 0.5833\n",
            "Epoch 9/100\n",
            "11/11 [==============================] - 0s 12ms/step - loss: 0.7820 - accuracy: 0.6574 - val_loss: 0.9441 - val_accuracy: 0.5000\n",
            "Epoch 10/100\n",
            "11/11 [==============================] - 0s 18ms/step - loss: 0.7548 - accuracy: 0.6204 - val_loss: 0.9192 - val_accuracy: 0.4167\n",
            "Epoch 11/100\n",
            "11/11 [==============================] - 0s 21ms/step - loss: 0.7293 - accuracy: 0.5741 - val_loss: 0.8966 - val_accuracy: 0.4167\n",
            "Epoch 12/100\n",
            "11/11 [==============================] - 0s 17ms/step - loss: 0.7068 - accuracy: 0.5741 - val_loss: 0.8750 - val_accuracy: 0.5833\n",
            "Epoch 13/100\n",
            "11/11 [==============================] - 0s 24ms/step - loss: 0.6872 - accuracy: 0.6019 - val_loss: 0.8552 - val_accuracy: 0.5833\n",
            "Epoch 14/100\n",
            "11/11 [==============================] - 0s 35ms/step - loss: 0.6670 - accuracy: 0.6852 - val_loss: 0.8372 - val_accuracy: 0.5833\n",
            "Epoch 15/100\n",
            "11/11 [==============================] - 0s 26ms/step - loss: 0.6495 - accuracy: 0.7315 - val_loss: 0.8195 - val_accuracy: 0.6667\n",
            "Epoch 16/100\n",
            "11/11 [==============================] - 0s 27ms/step - loss: 0.6326 - accuracy: 0.7685 - val_loss: 0.8036 - val_accuracy: 0.6667\n",
            "Epoch 17/100\n",
            "11/11 [==============================] - 0s 42ms/step - loss: 0.6169 - accuracy: 0.7593 - val_loss: 0.7877 - val_accuracy: 0.6667\n",
            "Epoch 18/100\n",
            "11/11 [==============================] - 0s 35ms/step - loss: 0.6024 - accuracy: 0.7593 - val_loss: 0.7723 - val_accuracy: 0.6667\n",
            "Epoch 19/100\n",
            "11/11 [==============================] - 0s 11ms/step - loss: 0.5882 - accuracy: 0.7500 - val_loss: 0.7571 - val_accuracy: 0.7500\n",
            "Epoch 20/100\n",
            "11/11 [==============================] - 0s 9ms/step - loss: 0.5748 - accuracy: 0.7778 - val_loss: 0.7428 - val_accuracy: 0.7500\n",
            "Epoch 21/100\n",
            "11/11 [==============================] - 0s 28ms/step - loss: 0.5616 - accuracy: 0.7778 - val_loss: 0.7300 - val_accuracy: 0.7500\n",
            "Epoch 22/100\n",
            "11/11 [==============================] - 0s 30ms/step - loss: 0.5498 - accuracy: 0.7870 - val_loss: 0.7167 - val_accuracy: 0.7500\n",
            "Epoch 23/100\n",
            "11/11 [==============================] - 0s 36ms/step - loss: 0.5386 - accuracy: 0.7870 - val_loss: 0.7039 - val_accuracy: 0.7500\n",
            "Epoch 24/100\n",
            "11/11 [==============================] - 0s 23ms/step - loss: 0.5271 - accuracy: 0.7870 - val_loss: 0.6926 - val_accuracy: 0.7500\n",
            "Epoch 25/100\n",
            "11/11 [==============================] - 0s 21ms/step - loss: 0.5170 - accuracy: 0.7870 - val_loss: 0.6811 - val_accuracy: 0.7500\n",
            "Epoch 26/100\n",
            "11/11 [==============================] - 0s 24ms/step - loss: 0.5072 - accuracy: 0.7870 - val_loss: 0.6698 - val_accuracy: 0.7500\n",
            "Epoch 27/100\n",
            "11/11 [==============================] - 0s 16ms/step - loss: 0.4978 - accuracy: 0.7870 - val_loss: 0.6590 - val_accuracy: 0.7500\n",
            "Epoch 28/100\n",
            "11/11 [==============================] - 0s 28ms/step - loss: 0.4884 - accuracy: 0.7870 - val_loss: 0.6492 - val_accuracy: 0.7500\n",
            "Epoch 29/100\n",
            "11/11 [==============================] - 0s 29ms/step - loss: 0.4800 - accuracy: 0.7870 - val_loss: 0.6395 - val_accuracy: 0.7500\n",
            "Epoch 30/100\n",
            "11/11 [==============================] - 0s 14ms/step - loss: 0.4717 - accuracy: 0.7870 - val_loss: 0.6303 - val_accuracy: 0.7500\n",
            "Epoch 31/100\n",
            "11/11 [==============================] - 0s 10ms/step - loss: 0.4642 - accuracy: 0.7870 - val_loss: 0.6211 - val_accuracy: 0.7500\n",
            "Epoch 32/100\n",
            "11/11 [==============================] - 0s 27ms/step - loss: 0.4567 - accuracy: 0.7870 - val_loss: 0.6126 - val_accuracy: 0.7500\n",
            "Epoch 33/100\n",
            "11/11 [==============================] - 0s 10ms/step - loss: 0.4493 - accuracy: 0.7870 - val_loss: 0.6043 - val_accuracy: 0.7500\n",
            "Epoch 34/100\n",
            "11/11 [==============================] - 0s 10ms/step - loss: 0.4425 - accuracy: 0.7870 - val_loss: 0.5958 - val_accuracy: 0.7500\n",
            "Epoch 35/100\n",
            "11/11 [==============================] - 0s 14ms/step - loss: 0.4359 - accuracy: 0.7870 - val_loss: 0.5882 - val_accuracy: 0.7500\n",
            "Epoch 36/100\n",
            "11/11 [==============================] - 0s 25ms/step - loss: 0.4296 - accuracy: 0.7870 - val_loss: 0.5804 - val_accuracy: 0.7500\n",
            "Epoch 37/100\n",
            "11/11 [==============================] - 0s 17ms/step - loss: 0.4235 - accuracy: 0.7870 - val_loss: 0.5730 - val_accuracy: 0.7500\n",
            "Epoch 38/100\n",
            "11/11 [==============================] - 0s 9ms/step - loss: 0.4177 - accuracy: 0.7870 - val_loss: 0.5659 - val_accuracy: 0.7500\n",
            "Epoch 39/100\n",
            "11/11 [==============================] - 0s 12ms/step - loss: 0.4119 - accuracy: 0.7870 - val_loss: 0.5594 - val_accuracy: 0.7500\n",
            "Epoch 40/100\n",
            "11/11 [==============================] - 0s 12ms/step - loss: 0.4066 - accuracy: 0.7963 - val_loss: 0.5531 - val_accuracy: 0.8333\n",
            "Epoch 41/100\n",
            "11/11 [==============================] - 0s 10ms/step - loss: 0.4014 - accuracy: 0.7963 - val_loss: 0.5465 - val_accuracy: 0.8333\n",
            "Epoch 42/100\n",
            "11/11 [==============================] - 0s 14ms/step - loss: 0.3959 - accuracy: 0.8056 - val_loss: 0.5404 - val_accuracy: 0.8333\n",
            "Epoch 43/100\n",
            "11/11 [==============================] - 0s 17ms/step - loss: 0.3912 - accuracy: 0.8056 - val_loss: 0.5344 - val_accuracy: 0.8333\n",
            "Epoch 44/100\n",
            "11/11 [==============================] - 0s 17ms/step - loss: 0.3863 - accuracy: 0.8056 - val_loss: 0.5291 - val_accuracy: 0.8333\n",
            "Epoch 45/100\n",
            "11/11 [==============================] - 0s 35ms/step - loss: 0.3818 - accuracy: 0.8148 - val_loss: 0.5235 - val_accuracy: 0.8333\n",
            "Epoch 46/100\n",
            "11/11 [==============================] - 0s 12ms/step - loss: 0.3776 - accuracy: 0.8148 - val_loss: 0.5177 - val_accuracy: 0.8333\n",
            "Epoch 47/100\n",
            "11/11 [==============================] - 0s 14ms/step - loss: 0.3731 - accuracy: 0.8241 - val_loss: 0.5125 - val_accuracy: 0.8333\n",
            "Epoch 48/100\n",
            "11/11 [==============================] - 0s 24ms/step - loss: 0.3691 - accuracy: 0.8241 - val_loss: 0.5074 - val_accuracy: 0.8333\n",
            "Epoch 49/100\n",
            "11/11 [==============================] - 0s 24ms/step - loss: 0.3652 - accuracy: 0.8241 - val_loss: 0.5024 - val_accuracy: 0.8333\n",
            "Epoch 50/100\n",
            "11/11 [==============================] - 0s 17ms/step - loss: 0.3614 - accuracy: 0.8241 - val_loss: 0.4976 - val_accuracy: 0.8333\n",
            "Epoch 51/100\n",
            "11/11 [==============================] - 0s 14ms/step - loss: 0.3579 - accuracy: 0.8241 - val_loss: 0.4925 - val_accuracy: 0.8333\n",
            "Epoch 52/100\n",
            "11/11 [==============================] - 0s 18ms/step - loss: 0.3543 - accuracy: 0.8241 - val_loss: 0.4879 - val_accuracy: 0.8333\n",
            "Epoch 53/100\n",
            "11/11 [==============================] - 0s 20ms/step - loss: 0.3508 - accuracy: 0.8241 - val_loss: 0.4833 - val_accuracy: 0.8333\n",
            "Epoch 54/100\n",
            "11/11 [==============================] - 0s 23ms/step - loss: 0.3477 - accuracy: 0.8241 - val_loss: 0.4796 - val_accuracy: 0.8333\n",
            "Epoch 55/100\n",
            "11/11 [==============================] - 0s 14ms/step - loss: 0.3442 - accuracy: 0.8148 - val_loss: 0.4752 - val_accuracy: 0.8333\n",
            "Epoch 56/100\n",
            "11/11 [==============================] - 0s 15ms/step - loss: 0.3410 - accuracy: 0.8148 - val_loss: 0.4711 - val_accuracy: 0.8333\n",
            "Epoch 57/100\n",
            "11/11 [==============================] - 0s 12ms/step - loss: 0.3379 - accuracy: 0.8148 - val_loss: 0.4677 - val_accuracy: 0.8333\n",
            "Epoch 58/100\n",
            "11/11 [==============================] - 0s 17ms/step - loss: 0.3348 - accuracy: 0.8241 - val_loss: 0.4635 - val_accuracy: 0.8333\n",
            "Epoch 59/100\n",
            "11/11 [==============================] - 0s 11ms/step - loss: 0.3319 - accuracy: 0.8333 - val_loss: 0.4600 - val_accuracy: 0.8333\n",
            "Epoch 60/100\n",
            "11/11 [==============================] - 0s 11ms/step - loss: 0.3290 - accuracy: 0.8333 - val_loss: 0.4564 - val_accuracy: 0.8333\n",
            "Epoch 61/100\n",
            "11/11 [==============================] - 0s 18ms/step - loss: 0.3261 - accuracy: 0.8333 - val_loss: 0.4531 - val_accuracy: 0.8333\n",
            "Epoch 62/100\n",
            "11/11 [==============================] - 0s 17ms/step - loss: 0.3234 - accuracy: 0.8333 - val_loss: 0.4496 - val_accuracy: 0.8333\n",
            "Epoch 63/100\n",
            "11/11 [==============================] - 0s 19ms/step - loss: 0.3207 - accuracy: 0.8333 - val_loss: 0.4462 - val_accuracy: 0.9167\n",
            "Epoch 64/100\n",
            "11/11 [==============================] - 0s 13ms/step - loss: 0.3181 - accuracy: 0.8333 - val_loss: 0.4437 - val_accuracy: 0.9167\n",
            "Epoch 65/100\n",
            "11/11 [==============================] - 0s 11ms/step - loss: 0.3157 - accuracy: 0.8333 - val_loss: 0.4409 - val_accuracy: 0.9167\n",
            "Epoch 66/100\n",
            "11/11 [==============================] - 0s 10ms/step - loss: 0.3130 - accuracy: 0.8333 - val_loss: 0.4379 - val_accuracy: 0.9167\n",
            "Epoch 67/100\n",
            "11/11 [==============================] - 0s 14ms/step - loss: 0.3104 - accuracy: 0.8333 - val_loss: 0.4340 - val_accuracy: 0.9167\n",
            "Epoch 68/100\n",
            "11/11 [==============================] - 0s 11ms/step - loss: 0.3082 - accuracy: 0.8333 - val_loss: 0.4315 - val_accuracy: 0.9167\n",
            "Epoch 69/100\n",
            "11/11 [==============================] - 0s 9ms/step - loss: 0.3052 - accuracy: 0.8333 - val_loss: 0.4284 - val_accuracy: 0.9167\n",
            "Epoch 70/100\n",
            "11/11 [==============================] - 0s 8ms/step - loss: 0.3027 - accuracy: 0.8333 - val_loss: 0.4255 - val_accuracy: 0.9167\n",
            "Epoch 71/100\n",
            "11/11 [==============================] - 0s 9ms/step - loss: 0.3004 - accuracy: 0.8426 - val_loss: 0.4222 - val_accuracy: 0.9167\n",
            "Epoch 72/100\n",
            "11/11 [==============================] - 0s 8ms/step - loss: 0.2980 - accuracy: 0.8426 - val_loss: 0.4197 - val_accuracy: 0.9167\n",
            "Epoch 73/100\n",
            "11/11 [==============================] - 0s 16ms/step - loss: 0.2954 - accuracy: 0.8426 - val_loss: 0.4171 - val_accuracy: 0.9167\n",
            "Epoch 74/100\n",
            "11/11 [==============================] - 0s 9ms/step - loss: 0.2931 - accuracy: 0.8426 - val_loss: 0.4136 - val_accuracy: 0.9167\n",
            "Epoch 75/100\n",
            "11/11 [==============================] - 0s 9ms/step - loss: 0.2907 - accuracy: 0.8519 - val_loss: 0.4109 - val_accuracy: 0.9167\n",
            "Epoch 76/100\n",
            "11/11 [==============================] - 0s 18ms/step - loss: 0.2886 - accuracy: 0.8519 - val_loss: 0.4082 - val_accuracy: 0.9167\n",
            "Epoch 77/100\n",
            "11/11 [==============================] - 0s 12ms/step - loss: 0.2860 - accuracy: 0.8519 - val_loss: 0.4063 - val_accuracy: 0.9167\n",
            "Epoch 78/100\n",
            "11/11 [==============================] - 0s 14ms/step - loss: 0.2838 - accuracy: 0.8611 - val_loss: 0.4051 - val_accuracy: 0.9167\n",
            "Epoch 79/100\n",
            "11/11 [==============================] - 0s 16ms/step - loss: 0.2815 - accuracy: 0.8611 - val_loss: 0.4026 - val_accuracy: 0.9167\n",
            "Epoch 80/100\n",
            "11/11 [==============================] - 0s 26ms/step - loss: 0.2794 - accuracy: 0.8611 - val_loss: 0.3990 - val_accuracy: 0.9167\n",
            "Epoch 81/100\n",
            "11/11 [==============================] - 0s 20ms/step - loss: 0.2776 - accuracy: 0.8611 - val_loss: 0.3981 - val_accuracy: 0.9167\n",
            "Epoch 82/100\n",
            "11/11 [==============================] - 0s 14ms/step - loss: 0.2752 - accuracy: 0.8611 - val_loss: 0.3942 - val_accuracy: 0.9167\n",
            "Epoch 83/100\n",
            "11/11 [==============================] - 0s 20ms/step - loss: 0.2729 - accuracy: 0.8611 - val_loss: 0.3923 - val_accuracy: 0.9167\n",
            "Epoch 84/100\n",
            "11/11 [==============================] - 0s 28ms/step - loss: 0.2705 - accuracy: 0.8611 - val_loss: 0.3896 - val_accuracy: 0.9167\n",
            "Epoch 85/100\n",
            "11/11 [==============================] - 0s 26ms/step - loss: 0.2685 - accuracy: 0.8704 - val_loss: 0.3875 - val_accuracy: 0.9167\n",
            "Epoch 86/100\n",
            "11/11 [==============================] - 0s 31ms/step - loss: 0.2664 - accuracy: 0.8704 - val_loss: 0.3831 - val_accuracy: 0.9167\n",
            "Epoch 87/100\n",
            "11/11 [==============================] - 0s 25ms/step - loss: 0.2642 - accuracy: 0.8704 - val_loss: 0.3810 - val_accuracy: 0.9167\n",
            "Epoch 88/100\n",
            "11/11 [==============================] - 0s 29ms/step - loss: 0.2622 - accuracy: 0.8796 - val_loss: 0.3778 - val_accuracy: 0.9167\n",
            "Epoch 89/100\n",
            "11/11 [==============================] - 0s 45ms/step - loss: 0.2601 - accuracy: 0.8796 - val_loss: 0.3751 - val_accuracy: 0.9167\n",
            "Epoch 90/100\n",
            "11/11 [==============================] - 0s 44ms/step - loss: 0.2579 - accuracy: 0.8796 - val_loss: 0.3732 - val_accuracy: 0.9167\n",
            "Epoch 91/100\n",
            "11/11 [==============================] - 0s 39ms/step - loss: 0.2561 - accuracy: 0.8796 - val_loss: 0.3702 - val_accuracy: 0.9167\n",
            "Epoch 92/100\n",
            "11/11 [==============================] - 0s 38ms/step - loss: 0.2541 - accuracy: 0.8796 - val_loss: 0.3689 - val_accuracy: 0.9167\n",
            "Epoch 93/100\n",
            "11/11 [==============================] - 0s 37ms/step - loss: 0.2520 - accuracy: 0.8796 - val_loss: 0.3657 - val_accuracy: 0.9167\n",
            "Epoch 94/100\n",
            "11/11 [==============================] - 0s 39ms/step - loss: 0.2499 - accuracy: 0.8796 - val_loss: 0.3631 - val_accuracy: 0.9167\n",
            "Epoch 95/100\n",
            "11/11 [==============================] - 0s 15ms/step - loss: 0.2478 - accuracy: 0.8796 - val_loss: 0.3614 - val_accuracy: 0.9167\n",
            "Epoch 96/100\n",
            "11/11 [==============================] - 0s 27ms/step - loss: 0.2459 - accuracy: 0.8981 - val_loss: 0.3588 - val_accuracy: 0.9167\n",
            "Epoch 97/100\n",
            "11/11 [==============================] - 0s 19ms/step - loss: 0.2439 - accuracy: 0.8981 - val_loss: 0.3572 - val_accuracy: 0.9167\n",
            "Epoch 98/100\n",
            "11/11 [==============================] - 0s 30ms/step - loss: 0.2419 - accuracy: 0.8981 - val_loss: 0.3547 - val_accuracy: 0.9167\n",
            "Epoch 99/100\n",
            "11/11 [==============================] - 0s 22ms/step - loss: 0.2400 - accuracy: 0.8981 - val_loss: 0.3522 - val_accuracy: 0.9167\n",
            "Epoch 100/100\n",
            "11/11 [==============================] - 0s 20ms/step - loss: 0.2380 - accuracy: 0.8981 - val_loss: 0.3492 - val_accuracy: 0.9167\n"
          ]
        },
        {
          "output_type": "execute_result",
          "data": {
            "text/plain": [
              "<keras.src.callbacks.History at 0x787405edf0a0>"
            ]
          },
          "metadata": {},
          "execution_count": 6
        }
      ]
    },
    {
      "cell_type": "code",
      "source": [
        "# Evaluating the model\n",
        "y_pred = np.argmax(model.predict(X_test_scaled), axis=-1)"
      ],
      "metadata": {
        "colab": {
          "base_uri": "https://localhost:8080/"
        },
        "id": "EHpVVF0pqwll",
        "outputId": "6bbddd90-e5e9-4f37-a57f-02907363078a"
      },
      "execution_count": null,
      "outputs": [
        {
          "output_type": "stream",
          "name": "stdout",
          "text": [
            "1/1 [==============================] - 0s 244ms/step\n"
          ]
        }
      ]
    },
    {
      "cell_type": "code",
      "source": [
        "# Calculate evaluation metrics\n",
        "accuracy = accuracy_score(y_test, y_pred)\n",
        "precision = precision_score(y_test, y_pred, average='macro')\n",
        "recall = recall_score(y_test, y_pred, average='macro')\n",
        "f1 = f1_score(y_test, y_pred, average='macro')\n",
        "conf_matrix = confusion_matrix(y_test, y_pred)\n",
        "\n",
        "print(\"Confusion Matrix:\")\n",
        "print(conf_matrix)\n",
        "print(\"Accuracy:\", accuracy)\n",
        "print(\"Precision:\", precision)\n",
        "print(\"Recall:\", recall)\n",
        "print(\"F1 Score:\", f1)"
      ],
      "metadata": {
        "colab": {
          "base_uri": "https://localhost:8080/"
        },
        "id": "TqD7kvU7qwn7",
        "outputId": "72db4c09-4f5e-4a8c-d593-24a31be89607"
      },
      "execution_count": null,
      "outputs": [
        {
          "output_type": "stream",
          "name": "stdout",
          "text": [
            "Confusion Matrix:\n",
            "[[10  0  0]\n",
            " [ 0  8  1]\n",
            " [ 0  0 11]]\n",
            "Accuracy: 0.9666666666666667\n",
            "Precision: 0.9722222222222222\n",
            "Recall: 0.9629629629629629\n",
            "F1 Score: 0.9658994032395567\n"
          ]
        }
      ]
    },
    {
      "cell_type": "code",
      "source": [
        "feature_names = iris.feature_names\n",
        "user_input = []\n",
        "for feature in feature_names:\n",
        "    value = float(input(f\"Enter {feature}: \"))\n",
        "    user_input.append(value)\n",
        "\n",
        "# Scale the user input\n",
        "user_input_scaled = scaler.transform([user_input])\n",
        "\n",
        "# Predict the outcome\n",
        "predicted_class = np.argmax(model.predict(user_input_scaled), axis=-1)\n",
        "class_names = iris.target_names\n",
        "print(f\"Predicted class: {class_names[predicted_class[0]]}\")"
      ],
      "metadata": {
        "colab": {
          "base_uri": "https://localhost:8080/"
        },
        "id": "srTwZUCHq6kM",
        "outputId": "ff41011b-dc37-4270-e181-1913efc792a0"
      },
      "execution_count": null,
      "outputs": [
        {
          "output_type": "stream",
          "name": "stdout",
          "text": [
            "Enter sepal length (cm): 4.4\n",
            "Enter sepal width (cm): 3.2\n",
            "Enter petal length (cm): 4\n",
            "Enter petal width (cm): 1\n",
            "1/1 [==============================] - 0s 22ms/step\n",
            "Predicted class: setosa\n"
          ]
        }
      ]
    }
  ]
}